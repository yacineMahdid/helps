{
 "cells": [
  {
   "cell_type": "markdown",
   "id": "3deb595b",
   "metadata": {},
   "source": [
    "# Kolmogorov Complexity to Compress DNA Sequences Using Python\n",
    "Long form blogpost can be found over here: [yacinemahdid.com](yacinemahdid.com)\n",
    "\n",
    "The data used can be found over here: [Kaggle/Humans.txt file](https://www.kaggle.com/nageshsingh/dna-sequence-dataset/version/1?select=human.txt)"
   ]
  },
  {
   "cell_type": "code",
   "execution_count": 1,
   "id": "14f0206b",
   "metadata": {},
   "outputs": [
    {
     "data": {
      "text/html": [
       "<div>\n",
       "<style scoped>\n",
       "    .dataframe tbody tr th:only-of-type {\n",
       "        vertical-align: middle;\n",
       "    }\n",
       "\n",
       "    .dataframe tbody tr th {\n",
       "        vertical-align: top;\n",
       "    }\n",
       "\n",
       "    .dataframe thead th {\n",
       "        text-align: right;\n",
       "    }\n",
       "</style>\n",
       "<table border=\"1\" class=\"dataframe\">\n",
       "  <thead>\n",
       "    <tr style=\"text-align: right;\">\n",
       "      <th></th>\n",
       "      <th>sequence</th>\n",
       "      <th>class</th>\n",
       "    </tr>\n",
       "  </thead>\n",
       "  <tbody>\n",
       "    <tr>\n",
       "      <th>0</th>\n",
       "      <td>ATGCCCCAACTAAATACTACCGTATGGCCCACCATAATTACCCCCA...</td>\n",
       "      <td>4</td>\n",
       "    </tr>\n",
       "    <tr>\n",
       "      <th>1</th>\n",
       "      <td>ATGAACGAAAATCTGTTCGCTTCATTCATTGCCCCCACAATCCTAG...</td>\n",
       "      <td>4</td>\n",
       "    </tr>\n",
       "    <tr>\n",
       "      <th>2</th>\n",
       "      <td>ATGTGTGGCATTTGGGCGCTGTTTGGCAGTGATGATTGCCTTTCTG...</td>\n",
       "      <td>3</td>\n",
       "    </tr>\n",
       "    <tr>\n",
       "      <th>3</th>\n",
       "      <td>ATGTGTGGCATTTGGGCGCTGTTTGGCAGTGATGATTGCCTTTCTG...</td>\n",
       "      <td>3</td>\n",
       "    </tr>\n",
       "    <tr>\n",
       "      <th>4</th>\n",
       "      <td>ATGCAACAGCATTTTGAATTTGAATACCAGACCAAAGTGGATGGTG...</td>\n",
       "      <td>3</td>\n",
       "    </tr>\n",
       "    <tr>\n",
       "      <th>...</th>\n",
       "      <td>...</td>\n",
       "      <td>...</td>\n",
       "    </tr>\n",
       "    <tr>\n",
       "      <th>4375</th>\n",
       "      <td>ATGGAAGATTTGGAGGAAACATTATTTGAAGAATTTGAAAACTATT...</td>\n",
       "      <td>0</td>\n",
       "    </tr>\n",
       "    <tr>\n",
       "      <th>4376</th>\n",
       "      <td>ATGCAGTCCTTTCGGGAGCAAAGCAGTTACCACGGAAACCAGCAAA...</td>\n",
       "      <td>6</td>\n",
       "    </tr>\n",
       "    <tr>\n",
       "      <th>4377</th>\n",
       "      <td>ATGCAGTCCTTTCGGGAGCAAAGCAGTTACCACGGAAACCAGCAAA...</td>\n",
       "      <td>6</td>\n",
       "    </tr>\n",
       "    <tr>\n",
       "      <th>4378</th>\n",
       "      <td>ATGGGGCACCTGGTTTGCTGTCTGTGTGGCAAGTGGGCCAGTTACC...</td>\n",
       "      <td>6</td>\n",
       "    </tr>\n",
       "    <tr>\n",
       "      <th>4379</th>\n",
       "      <td>ATGCAGTCCTTTCGGGAGCAAAGCAGTTACCACGGAAACCAGCAAA...</td>\n",
       "      <td>6</td>\n",
       "    </tr>\n",
       "  </tbody>\n",
       "</table>\n",
       "<p>4380 rows × 2 columns</p>\n",
       "</div>"
      ],
      "text/plain": [
       "                                               sequence  class\n",
       "0     ATGCCCCAACTAAATACTACCGTATGGCCCACCATAATTACCCCCA...      4\n",
       "1     ATGAACGAAAATCTGTTCGCTTCATTCATTGCCCCCACAATCCTAG...      4\n",
       "2     ATGTGTGGCATTTGGGCGCTGTTTGGCAGTGATGATTGCCTTTCTG...      3\n",
       "3     ATGTGTGGCATTTGGGCGCTGTTTGGCAGTGATGATTGCCTTTCTG...      3\n",
       "4     ATGCAACAGCATTTTGAATTTGAATACCAGACCAAAGTGGATGGTG...      3\n",
       "...                                                 ...    ...\n",
       "4375  ATGGAAGATTTGGAGGAAACATTATTTGAAGAATTTGAAAACTATT...      0\n",
       "4376  ATGCAGTCCTTTCGGGAGCAAAGCAGTTACCACGGAAACCAGCAAA...      6\n",
       "4377  ATGCAGTCCTTTCGGGAGCAAAGCAGTTACCACGGAAACCAGCAAA...      6\n",
       "4378  ATGGGGCACCTGGTTTGCTGTCTGTGTGGCAAGTGGGCCAGTTACC...      6\n",
       "4379  ATGCAGTCCTTTCGGGAGCAAAGCAGTTACCACGGAAACCAGCAAA...      6\n",
       "\n",
       "[4380 rows x 2 columns]"
      ]
     },
     "execution_count": 1,
     "metadata": {},
     "output_type": "execute_result"
    }
   ],
   "source": [
    "import math\n",
    "import pandas as pd\n",
    "import matplotlib.pyplot as plt\n",
    "\n",
    "# Sample dataset coming from Kaggle: https://www.kaggle.com/nageshsingh/dna-sequence-dataset\n",
    "HOME = \"C:/Users/Yacin/Desktop\"\n",
    "HUMAN_DNA_DATASET = f\"{HOME}/human.txt\"\n",
    "df = pd.read_csv(HUMAN_DNA_DATASET, sep = \"\\t\", names = ['sequence','class'], skiprows=1)\n",
    "\n",
    "# No idea what the class variable is though as it wasn't mentioned in the dataset on Kaggle.\n",
    "df"
   ]
  },
  {
   "cell_type": "code",
   "execution_count": 26,
   "id": "730e28ee",
   "metadata": {},
   "outputs": [],
   "source": [
    "# Source is right here: https://github.com/Naereen/Lempel-Ziv_Complexity/blob/master/src/lempel_ziv_complexity.py\n",
    "\n",
    "def lempel_ziv_complexity(binary_sequence):\n",
    "    r\"\"\" Manual implementation of the Lempel-Ziv complexity.\n",
    "    It is defined as the number of different substrings encountered as the stream is viewed from begining to the end.\n",
    "    As an example:\n",
    "    >>> s = '1001111011000010'\n",
    "    >>> lempel_ziv_complexity(s)  # 1 / 0 / 01 / 11 / 10 / 110 / 00 / 010\n",
    "    8\n",
    "    Marking in the different substrings the sequence complexity :math:`\\mathrm{Lempel-Ziv}(s) = 8`: :math:`s = 1 / 0 / 01 / 11 / 10 / 110 / 00 / 010`.\n",
    "    - See the page https://en.wikipedia.org/wiki/Lempel-Ziv_complexity for more details.\n",
    "    Other examples:\n",
    "    >>> lempel_ziv_complexity('1010101010101010')  # 1, 0, 10, 101, 01, 010, 1010\n",
    "    7\n",
    "    >>> lempel_ziv_complexity('1001111011000010000010')  # 1, 0, 01, 11, 10, 110, 00, 010, 000\n",
    "    9\n",
    "    >>> lempel_ziv_complexity('100111101100001000001010')  # 1, 0, 01, 11, 10, 110, 00, 010, 000, 0101\n",
    "    10\n",
    "    - Note: it is faster to give the sequence as a string of characters, like `'10001001'`, instead of a list or a numpy array.\n",
    "    - Note: see this notebook for more details, comparison, benchmarks and experiments: https://Nbviewer.Jupyter.org/github/Naereen/Lempel-Ziv_Complexity/Short_study_of_the_Lempel-Ziv_complexity.ipynb\n",
    "    - Note: there is also a Cython-powered version, for speedup, see :download:`lempel_ziv_complexity_cython.pyx`.\n",
    "    \"\"\"\n",
    "    sub_strings = set()\n",
    "    n = len(binary_sequence)\n",
    "\n",
    "    ind = 0\n",
    "    inc = 1\n",
    "    while True:\n",
    "        if ind + inc > len(binary_sequence):\n",
    "            break\n",
    "        sub_str = binary_sequence[ind : ind + inc]\n",
    "        if sub_str in sub_strings:\n",
    "            inc += 1\n",
    "        else:\n",
    "            sub_strings.add(sub_str)\n",
    "            ind += inc\n",
    "            inc = 1\n",
    "    return len(sub_strings)\n",
    "\n",
    "\n",
    "def shannon_entropy(dna_sequence):\n",
    "    \"\"\"Custom implementation of shannon entropy with a full non-binarized sequence\n",
    "        Formula looks like this\n",
    "        H(S) = −Σ P(Si) log2 (P(Si))\n",
    "        P(Si) is a bit confusing but, it's the relative frequency of the current char i in the whole string \n",
    "        as we are iterating on each character in the string. \n",
    "    \"\"\"\n",
    "    \n",
    "    # Hold the relative frequency per nucleotide for a given dna sequence\n",
    "    relative_freq_nucleotide = {\n",
    "        'A' : 0, \n",
    "        'T' : 0, \n",
    "        'G' : 0, \n",
    "        'C': 0,\n",
    "        'N' : 0\n",
    "    }\n",
    "    \n",
    "    # Formula looks like this\n",
    "    # H(S) = −Σ P(Si) log2 (P(Si))\n",
    "    # P(Si) is a bit confusing but, it's the relative frequency of the current char i in the whole string \n",
    "    # as we are iterating on each character in the string. \n",
    "\n",
    "    \n",
    "    # step 1: calculate all the frequency for each characters\n",
    "    for nucleotide in relative_freq_nucleotide:\n",
    "        relative_freq_nucleotide[nucleotide] = dna_sequence.count(nucleotide) / len(dna_sequence)\n",
    "    \n",
    "    # step 2: iterate over each nucleotide and sum up the relative frequency\n",
    "    entropy = 0\n",
    "    for nucleotide_i in dna_sequence:\n",
    "        rel_freq = relative_freq_nucleotide[nucleotide_i]\n",
    "        entropy = entropy - (rel_freq * math.log(rel_freq, 2))\n",
    "        \n",
    "    return entropy\n",
    "\n",
    "def shannon_entropy_corrected(dna_sequence):\n",
    "    \"\"\"Custom implementation of shannon entropy with a full non-binarized sequence\n",
    "        Formula looks like this\n",
    "        H(S) = −Σ P(Si) log2 (P(Si))\n",
    "        P(Si) here is simply the relative frequency of character A,T,G,C or n in the string.\n",
    "    \"\"\"\n",
    "    \n",
    "    entropy = 0\n",
    "    for nucleotide in {'A', 'T', 'G', 'C', 'N'}:\n",
    "        rel_freq = dna_sequence.count(nucleotide) / len(dna_sequence)\n",
    "        if rel_freq > 0:\n",
    "            entropy = entropy - (rel_freq * math.log(rel_freq, 2))\n",
    "        \n",
    "    return entropy\n",
    "\n",
    "def string_to_binary(string_sequence):\n",
    "    \"\"\"Simple converter from a string sequence to a binary sequence\"\"\"\n",
    "    return ''.join(format(ord(x), 'b') for x in string_sequence)\n",
    "\n",
    "def generate_window(sequence, window_size=250, jump_size=50):\n",
    "    \"\"\" Generator of windowed sequence with specific jump size\n",
    "    Parameters:\n",
    "    sequence (str): a string representing the data\n",
    "    window_size (int): the size of the window we want to return\n",
    "    jump_size (int): how much we want to move the window after each yield\n",
    "    \n",
    "    Yield:\n",
    "    windowed sequence of specific size\n",
    "    \n",
    "    \"\"\"\n",
    "    start = 0\n",
    "    end = window_size\n",
    "    \n",
    "    while end < len(sequence):\n",
    "        yield sequence[start:end]\n",
    "        \n",
    "        start = start + jump_size\n",
    "        end = end + jump_size\n",
    "\n",
    "def generate_lz_sequence(sequence):\n",
    "    \"\"\"helper function to generate a list of Lempel-Ziv complexity metric\"\"\"\n",
    "    lz_sequence = []\n",
    "    for window in generate_window(sequence):\n",
    "        encoded_sequence = string_to_binary(window)\n",
    "        lz = lempel_ziv_complexity(encoded_sequence)\n",
    "        lz_sequence.append(lz)\n",
    "    \n",
    "    return lz_sequence\n",
    "\n",
    "def generate_shannon_sequence(sequence, shannon_fn):\n",
    "    \"\"\"helper function to generate a list of Shannon Entropy metric\"\"\"\n",
    "    se_sequence = []\n",
    "    for window in generate_window(sequence):\n",
    "        se = shannon_fn(window)\n",
    "        se_sequence.append(se)\n",
    "        \n",
    "    return se_sequence\n",
    "\n",
    "def normalize_lz_sequence(lz_sequence, window_size=250):\n",
    "    \"\"\"helper function to normalize a sequence of Lempel-Ziv complexity metric\"\"\"\n",
    "    return [lz/window_size for lz in lz_sequence]"
   ]
  },
  {
   "cell_type": "code",
   "execution_count": 27,
   "id": "78734989",
   "metadata": {},
   "outputs": [
    {
     "data": {
      "text/plain": [
       "5534562"
      ]
     },
     "execution_count": 27,
     "metadata": {},
     "output_type": "execute_result"
    }
   ],
   "source": [
    "# Data preparation\n",
    "sequence_list = df.loc[:, 'sequence'].tolist()\n",
    "# simulating a big chromosome dna sequence (it's not actually I'm not too sure what this data represent tbh)\n",
    "mega_dna_sequence = ''.join(sequence_list)\n",
    "len(mega_dna_sequence)"
   ]
  },
  {
   "cell_type": "code",
   "execution_count": 28,
   "id": "75d9934e-c90a-4c2d-8fdf-af34429715cb",
   "metadata": {},
   "outputs": [
    {
     "data": {
      "text/plain": [
       "110687"
      ]
     },
     "execution_count": 28,
     "metadata": {},
     "output_type": "execute_result"
    }
   ],
   "source": [
    "# Generating Shannon Entropy like the paper\n",
    "se_sequence = generate_shannon_sequence(mega_dna_sequence, lambda seq : shannon_entropy(seq))\n",
    "len(se_sequence)"
   ]
  },
  {
   "cell_type": "code",
   "execution_count": 29,
   "id": "d2055a09-8754-4b86-a38c-e16c1df76ce5",
   "metadata": {},
   "outputs": [
    {
     "data": {
      "text/plain": [
       "110687"
      ]
     },
     "execution_count": 29,
     "metadata": {},
     "output_type": "execute_result"
    }
   ],
   "source": [
    "# Generating Shannon Entropy corrected to match the litterature\n",
    "se_sequence_cor = generate_shannon_sequence(mega_dna_sequence, lambda seq : shannon_entropy_corrected(seq))\n",
    "len(se_sequence_cor)"
   ]
  },
  {
   "cell_type": "code",
   "execution_count": 30,
   "id": "03aeede8",
   "metadata": {},
   "outputs": [
    {
     "data": {
      "text/plain": [
       "110687"
      ]
     },
     "execution_count": 30,
     "metadata": {},
     "output_type": "execute_result"
    }
   ],
   "source": [
    "# Generating the lempel-ziv sequence with window of 250 nucleotide and jumps of 50 nucleotid\n",
    "lz_sequence = generate_lz_sequence(mega_dna_sequence)\n",
    "len(lz_sequence)"
   ]
  },
  {
   "cell_type": "code",
   "execution_count": 31,
   "id": "ba22fbab",
   "metadata": {},
   "outputs": [],
   "source": [
    "# Normalizing the LZ complexity between 0 and 1\n",
    "n_lz_sequence = normalize_lz_sequence(lz_sequence, 250)"
   ]
  },
  {
   "cell_type": "code",
   "execution_count": 32,
   "id": "dab12117",
   "metadata": {},
   "outputs": [
    {
     "data": {
      "image/png": "[encoded data removed]",
      "text/plain": [
       "<Figure size 432x288 with 1 Axes>"
      ]
     },
     "metadata": {
      "needs_background": "light"
     },
     "output_type": "display_data"
    }
   ],
   "source": [
    "# Generating multiple Graphs at different resolution starting from the start of the DNA sequence for Lz Complexity\n",
    "resolutions = [100, 1000, 10000]\n",
    "\n",
    "for res in resolutions:\n",
    "    plt.plot(n_lz_sequence[0:res])\n",
    "    plt.xlabel(\"position\")\n",
    "    plt.ylabel(\"Lempel-Ziv Complexity\")\n",
    "    plt.title(\"Lempel-Ziv Complexity Across DNA Sequence\")\n",
    "    plt.savefig(f'{HOME}/lz_complexity_dna_{res}.png', dpi = 600)\n",
    "    \n",
    "plt.plot(n_lz_sequence)\n",
    "plt.xlabel(\"position\")\n",
    "plt.ylabel(\"Lempel-Ziv Complexity\")\n",
    "plt.title(\"Lempel-Ziv Complexity Across DNA Sequence\")\n",
    "plt.savefig(f'{HOME}/lz_complexity_dna_full.png', dpi = 600)\n"
   ]
  },
  {
   "cell_type": "code",
   "execution_count": 35,
   "id": "348c75db",
   "metadata": {},
   "outputs": [
    {
     "data": {
      "image/png": "[encoded data removed]",
      "text/plain": [
       "<Figure size 432x288 with 1 Axes>"
      ]
     },
     "metadata": {
      "needs_background": "light"
     },
     "output_type": "display_data"
    }
   ],
   "source": [
    "# Generating multiple Graphs at different resolution starting from the start of the DNA sequence for Shannon\n",
    "resolutions = [100, 1000, 10000]\n",
    "\n",
    "for res in resolutions:\n",
    "    plt.plot(se_sequence[0:res])\n",
    "    plt.xlabel(\"position\")\n",
    "    plt.ylabel(\"Shannon Entropy\")\n",
    "    #plt.ylim(100,150)\n",
    "    plt.title(\"Shannon Entropy Across DNA Sequence\")\n",
    "    plt.savefig(f'{HOME}/se_dna_{res}.png', dpi = 600)\n",
    "    \n",
    "plt.plot(se_sequence)\n",
    "plt.xlabel(\"position\")\n",
    "plt.ylabel(\"Shannon Entropy\")\n",
    "#plt.ylim(100,150)\n",
    "plt.title(\"Shannon Entropy Across DNA Sequence\")\n",
    "plt.savefig(f'{HOME}/se_dna_full.png', dpi = 600)"
   ]
  },
  {
   "cell_type": "code",
   "execution_count": 36,
   "id": "bba31f88-0da1-423d-b9dd-c5bbc33ab9e7",
   "metadata": {},
   "outputs": [
    {
     "data": {
      "image/png": "[encoded data removed]",
      "text/plain": [
       "<Figure size 432x288 with 1 Axes>"
      ]
     },
     "metadata": {
      "needs_background": "light"
     },
     "output_type": "display_data"
    }
   ],
   "source": [
    "# Generating multiple Graphs at different resolution starting from the start of the DNA sequence for Shannon\n",
    "resolutions = [100, 1000, 10000]\n",
    "\n",
    "for res in resolutions:\n",
    "    plt.plot(se_sequence_cor[0:res])\n",
    "    plt.xlabel(\"position\")\n",
    "    plt.ylabel(\"Shannon Entropy\")\n",
    "    plt.title(\"Shannon Entropy Corrected Across DNA Sequence\")\n",
    "    plt.savefig(f'{HOME}/se_cor_dna_{res}.png', dpi = 600)\n",
    "    \n",
    "plt.plot(se_sequence_cor)\n",
    "plt.xlabel(\"position\")\n",
    "plt.ylabel(\"Shannon Entropy\")\n",
    "plt.title(\"Shannon Entropy Corrected Across DNA Sequence\")\n",
    "plt.savefig(f'{HOME}/se_cor_dna_full.png', dpi = 600)"
   ]
  },
  {
   "cell_type": "code",
   "execution_count": null,
   "id": "a6b90ddd-3111-4546-bad2-bf8f0f9984f5",
   "metadata": {},
   "outputs": [],
   "source": []
  }
 ],
 "metadata": {
  "kernelspec": {
   "display_name": "Python 3 (ipykernel)",
   "language": "python",
   "name": "python3"
  },
  "language_info": {
   "codemirror_mode": {
    "name": "ipython",
    "version": 3
   },
   "file_extension": ".py",
   "mimetype": "text/x-python",
   "name": "python",
   "nbconvert_exporter": "python",
   "pygments_lexer": "ipython3",
   "version": "3.9.5"
  }
 },
 "nbformat": 4,
 "nbformat_minor": 5
}
